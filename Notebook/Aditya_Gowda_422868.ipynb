{
 "cells": [
  {
   "cell_type": "code",
   "execution_count": 1,
   "id": "134f85dd",
   "metadata": {},
   "outputs": [
    {
     "name": "stdout",
     "output_type": "stream",
     "text": [
      "Requirement already satisfied: plotly in c:\\users\\ektag\\anaconda3\\lib\\site-packages (5.6.0)\n",
      "Requirement already satisfied: six in c:\\users\\ektag\\anaconda3\\lib\\site-packages (from plotly) (1.16.0)\n",
      "Requirement already satisfied: tenacity>=6.2.0 in c:\\users\\ektag\\anaconda3\\lib\\site-packages (from plotly) (8.0.1)\n",
      "Note: you may need to restart the kernel to use updated packages.\n"
     ]
    }
   ],
   "source": [
    "pip install plotly"
   ]
  },
  {
   "cell_type": "code",
   "execution_count": 2,
   "id": "a1d9905d",
   "metadata": {},
   "outputs": [],
   "source": [
    "#importing libraries\n",
    "import pandas as pd\n",
    "import plotly.express as px\n",
    "import plotly.graph_objects as go\n",
    "from plotly.subplots import make_subplots"
   ]
  },
  {
   "cell_type": "code",
   "execution_count": 3,
   "id": "37a2b3da",
   "metadata": {},
   "outputs": [],
   "source": [
    "#importing the dataset of cases and Population using file directory\n",
    "world_data = pd.read_csv(\"C:/Users/ektag/Desktop/EDS/World/worldometer_coronavirus_daily_data.csv\")\n",
    "population = pd.read_csv(\"C:/Users/ektag/Desktop/EDS/World/worldometer_coronavirus_summary_data.csv\")"
   ]
  },
  {
   "cell_type": "code",
   "execution_count": 4,
   "id": "858ba51d",
   "metadata": {},
   "outputs": [],
   "source": [
    "#importing the Vaccination dtaset from Github\n",
    "Indian_vaccination =  \"https://raw.githubusercontent.com/owid/covid-19-data/master/public/data/vaccinations/country_data/India.csv\"\n",
    "USA_vaccination =  \"https://raw.githubusercontent.com/owid/covid-19-data/master/public/data/vaccinations/country_data/United%20States.csv\"\n",
    "Germany_vaccination =  \"https://raw.githubusercontent.com/owid/covid-19-data/master/public/data/vaccinations/country_data/Germany.csv\""
   ]
  },
  {
   "cell_type": "markdown",
   "id": "9a2fe1a4",
   "metadata": {},
   "source": [
    "## Covid Cases Analysis "
   ]
  },
  {
   "cell_type": "code",
   "execution_count": 5,
   "id": "78ccb941",
   "metadata": {},
   "outputs": [
    {
     "data": {
      "text/html": [
       "<div>\n",
       "<style scoped>\n",
       "    .dataframe tbody tr th:only-of-type {\n",
       "        vertical-align: middle;\n",
       "    }\n",
       "\n",
       "    .dataframe tbody tr th {\n",
       "        vertical-align: top;\n",
       "    }\n",
       "\n",
       "    .dataframe thead th {\n",
       "        text-align: right;\n",
       "    }\n",
       "</style>\n",
       "<table border=\"1\" class=\"dataframe\">\n",
       "  <thead>\n",
       "    <tr style=\"text-align: right;\">\n",
       "      <th></th>\n",
       "      <th>date</th>\n",
       "      <th>country</th>\n",
       "      <th>cumulative_total_cases</th>\n",
       "      <th>daily_new_cases</th>\n",
       "      <th>active_cases</th>\n",
       "      <th>cumulative_total_deaths</th>\n",
       "      <th>daily_new_deaths</th>\n",
       "    </tr>\n",
       "  </thead>\n",
       "  <tbody>\n",
       "    <tr>\n",
       "      <th>0</th>\n",
       "      <td>15-02-2020</td>\n",
       "      <td>Afghanistan</td>\n",
       "      <td>0</td>\n",
       "      <td>NaN</td>\n",
       "      <td>0.0</td>\n",
       "      <td>0.0</td>\n",
       "      <td>NaN</td>\n",
       "    </tr>\n",
       "    <tr>\n",
       "      <th>1</th>\n",
       "      <td>16-02-2020</td>\n",
       "      <td>Afghanistan</td>\n",
       "      <td>0</td>\n",
       "      <td>NaN</td>\n",
       "      <td>0.0</td>\n",
       "      <td>0.0</td>\n",
       "      <td>NaN</td>\n",
       "    </tr>\n",
       "    <tr>\n",
       "      <th>2</th>\n",
       "      <td>17-02-2020</td>\n",
       "      <td>Afghanistan</td>\n",
       "      <td>0</td>\n",
       "      <td>NaN</td>\n",
       "      <td>0.0</td>\n",
       "      <td>0.0</td>\n",
       "      <td>NaN</td>\n",
       "    </tr>\n",
       "    <tr>\n",
       "      <th>3</th>\n",
       "      <td>18-02-2020</td>\n",
       "      <td>Afghanistan</td>\n",
       "      <td>0</td>\n",
       "      <td>NaN</td>\n",
       "      <td>0.0</td>\n",
       "      <td>0.0</td>\n",
       "      <td>NaN</td>\n",
       "    </tr>\n",
       "    <tr>\n",
       "      <th>4</th>\n",
       "      <td>19-02-2020</td>\n",
       "      <td>Afghanistan</td>\n",
       "      <td>0</td>\n",
       "      <td>NaN</td>\n",
       "      <td>0.0</td>\n",
       "      <td>0.0</td>\n",
       "      <td>NaN</td>\n",
       "    </tr>\n",
       "  </tbody>\n",
       "</table>\n",
       "</div>"
      ],
      "text/plain": [
       "         date      country  cumulative_total_cases  daily_new_cases  \\\n",
       "0  15-02-2020  Afghanistan                       0              NaN   \n",
       "1  16-02-2020  Afghanistan                       0              NaN   \n",
       "2  17-02-2020  Afghanistan                       0              NaN   \n",
       "3  18-02-2020  Afghanistan                       0              NaN   \n",
       "4  19-02-2020  Afghanistan                       0              NaN   \n",
       "\n",
       "   active_cases  cumulative_total_deaths  daily_new_deaths  \n",
       "0           0.0                      0.0               NaN  \n",
       "1           0.0                      0.0               NaN  \n",
       "2           0.0                      0.0               NaN  \n",
       "3           0.0                      0.0               NaN  \n",
       "4           0.0                      0.0               NaN  "
      ]
     },
     "execution_count": 5,
     "metadata": {},
     "output_type": "execute_result"
    }
   ],
   "source": [
    "world_data.head()"
   ]
  },
  {
   "cell_type": "code",
   "execution_count": 6,
   "id": "b20d3669",
   "metadata": {},
   "outputs": [
    {
     "data": {
      "text/plain": [
       "(184787, 7)"
      ]
     },
     "execution_count": 6,
     "metadata": {},
     "output_type": "execute_result"
    }
   ],
   "source": [
    "world_data.shape"
   ]
  },
  {
   "cell_type": "code",
   "execution_count": 7,
   "id": "58abaf15",
   "metadata": {},
   "outputs": [
    {
     "data": {
      "text/html": [
       "<div>\n",
       "<style scoped>\n",
       "    .dataframe tbody tr th:only-of-type {\n",
       "        vertical-align: middle;\n",
       "    }\n",
       "\n",
       "    .dataframe tbody tr th {\n",
       "        vertical-align: top;\n",
       "    }\n",
       "\n",
       "    .dataframe thead th {\n",
       "        text-align: right;\n",
       "    }\n",
       "</style>\n",
       "<table border=\"1\" class=\"dataframe\">\n",
       "  <thead>\n",
       "    <tr style=\"text-align: right;\">\n",
       "      <th></th>\n",
       "      <th>cumulative_total_cases</th>\n",
       "      <th>daily_new_cases</th>\n",
       "      <th>active_cases</th>\n",
       "      <th>cumulative_total_deaths</th>\n",
       "      <th>daily_new_deaths</th>\n",
       "    </tr>\n",
       "  </thead>\n",
       "  <tbody>\n",
       "    <tr>\n",
       "      <th>count</th>\n",
       "      <td>1.847870e+05</td>\n",
       "      <td>174329.000000</td>\n",
       "      <td>1.667470e+05</td>\n",
       "      <td>1.782270e+05</td>\n",
       "      <td>157850.000000</td>\n",
       "    </tr>\n",
       "    <tr>\n",
       "      <th>mean</th>\n",
       "      <td>7.251089e+05</td>\n",
       "      <td>2987.633285</td>\n",
       "      <td>6.239283e+04</td>\n",
       "      <td>1.388600e+04</td>\n",
       "      <td>39.831834</td>\n",
       "    </tr>\n",
       "    <tr>\n",
       "      <th>std</th>\n",
       "      <td>3.681471e+06</td>\n",
       "      <td>17803.232663</td>\n",
       "      <td>3.955641e+05</td>\n",
       "      <td>6.049521e+04</td>\n",
       "      <td>181.102770</td>\n",
       "    </tr>\n",
       "    <tr>\n",
       "      <th>min</th>\n",
       "      <td>0.000000e+00</td>\n",
       "      <td>-322.000000</td>\n",
       "      <td>-1.432100e+04</td>\n",
       "      <td>0.000000e+00</td>\n",
       "      <td>-39.000000</td>\n",
       "    </tr>\n",
       "    <tr>\n",
       "      <th>25%</th>\n",
       "      <td>1.099000e+03</td>\n",
       "      <td>0.000000</td>\n",
       "      <td>6.000000e+01</td>\n",
       "      <td>2.400000e+01</td>\n",
       "      <td>0.000000</td>\n",
       "    </tr>\n",
       "    <tr>\n",
       "      <th>50%</th>\n",
       "      <td>1.775600e+04</td>\n",
       "      <td>58.000000</td>\n",
       "      <td>1.386000e+03</td>\n",
       "      <td>3.040000e+02</td>\n",
       "      <td>1.000000</td>\n",
       "    </tr>\n",
       "    <tr>\n",
       "      <th>75%</th>\n",
       "      <td>2.238085e+05</td>\n",
       "      <td>728.000000</td>\n",
       "      <td>1.462050e+04</td>\n",
       "      <td>4.111000e+03</td>\n",
       "      <td>12.000000</td>\n",
       "    </tr>\n",
       "    <tr>\n",
       "      <th>max</th>\n",
       "      <td>8.420947e+07</td>\n",
       "      <td>909610.000000</td>\n",
       "      <td>1.793543e+07</td>\n",
       "      <td>1.026646e+06</td>\n",
       "      <td>5093.000000</td>\n",
       "    </tr>\n",
       "  </tbody>\n",
       "</table>\n",
       "</div>"
      ],
      "text/plain": [
       "       cumulative_total_cases  daily_new_cases  active_cases  \\\n",
       "count            1.847870e+05    174329.000000  1.667470e+05   \n",
       "mean             7.251089e+05      2987.633285  6.239283e+04   \n",
       "std              3.681471e+06     17803.232663  3.955641e+05   \n",
       "min              0.000000e+00      -322.000000 -1.432100e+04   \n",
       "25%              1.099000e+03         0.000000  6.000000e+01   \n",
       "50%              1.775600e+04        58.000000  1.386000e+03   \n",
       "75%              2.238085e+05       728.000000  1.462050e+04   \n",
       "max              8.420947e+07    909610.000000  1.793543e+07   \n",
       "\n",
       "       cumulative_total_deaths  daily_new_deaths  \n",
       "count             1.782270e+05     157850.000000  \n",
       "mean              1.388600e+04         39.831834  \n",
       "std               6.049521e+04        181.102770  \n",
       "min               0.000000e+00        -39.000000  \n",
       "25%               2.400000e+01          0.000000  \n",
       "50%               3.040000e+02          1.000000  \n",
       "75%               4.111000e+03         12.000000  \n",
       "max               1.026646e+06       5093.000000  "
      ]
     },
     "execution_count": 7,
     "metadata": {},
     "output_type": "execute_result"
    }
   ],
   "source": [
    "world_data.describe()"
   ]
  },
  {
   "cell_type": "code",
   "execution_count": 8,
   "id": "d03e7c92",
   "metadata": {},
   "outputs": [
    {
     "data": {
      "text/plain": [
       "array(['Afghanistan', 'Albania', 'Algeria', 'Andorra', 'Angola',\n",
       "       'Anguilla', 'Antigua And Barbuda', 'Argentina', 'Armenia', 'Aruba',\n",
       "       'Australia', 'Austria', 'Azerbaijan', 'Bahamas', 'Bahrain',\n",
       "       'Bangladesh', 'Barbados', 'Belarus', 'Belgium', 'Belize', 'Benin',\n",
       "       'Bermuda', 'Bhutan', 'Bolivia', 'Bosnia And Herzegovina',\n",
       "       'Botswana', 'Brazil', 'British Virgin Islands',\n",
       "       'Brunei Darussalam', 'Bulgaria', 'Burkina Faso', 'Burundi',\n",
       "       'Cabo Verde', 'Cambodia', 'Cameroon', 'Canada',\n",
       "       'Caribbean Netherlands', 'Cayman Islands',\n",
       "       'Central African Republic', 'Chad', 'Channel Islands', 'Chile',\n",
       "       'China Hong Kong Sar', 'China Macao Sar', 'China', 'Colombia',\n",
       "       'Comoros', 'Congo', 'Cook Islands', 'Costa Rica', 'Cote D Ivoire',\n",
       "       'Croatia', 'Cuba', 'Curacao', 'Cyprus', 'Czech Republic',\n",
       "       'Democratic Republic Of The Congo', 'Denmark', 'Djibouti',\n",
       "       'Dominica', 'Dominican Republic', 'Ecuador', 'Egypt',\n",
       "       'El Salvador', 'Equatorial Guinea', 'Eritrea', 'Estonia',\n",
       "       'Ethiopia', 'Faeroe Islands', 'Falkland Islands Malvinas', 'Fiji',\n",
       "       'Finland', 'France', 'French Guiana', 'French Polynesia', 'Gabon',\n",
       "       'Gambia', 'Georgia', 'Germany', 'Ghana', 'Gibraltar', 'Greece',\n",
       "       'Greenland', 'Grenada', 'Guadeloupe', 'Guatemala', 'Guinea Bissau',\n",
       "       'Guinea', 'Guyana', 'Haiti', 'Holy See', 'Honduras', 'Hungary',\n",
       "       'Iceland', 'India', 'Indonesia', 'Iran', 'Iraq', 'Ireland',\n",
       "       'Isle Of Man', 'Israel', 'Italy', 'Jamaica', 'Japan', 'Jordan',\n",
       "       'Kazakhstan', 'Kenya', 'Kiribati', 'Kuwait', 'Kyrgyzstan', 'Laos',\n",
       "       'Latvia', 'Lebanon', 'Lesotho', 'Liberia', 'Libya',\n",
       "       'Liechtenstein', 'Lithuania', 'Luxembourg', 'Macedonia',\n",
       "       'Madagascar', 'Malawi', 'Malaysia', 'Maldives', 'Mali', 'Malta',\n",
       "       'Marshall Islands', 'Martinique', 'Mauritania', 'Mauritius',\n",
       "       'Mayotte', 'Mexico', 'Micronesia', 'Moldova', 'Monaco', 'Mongolia',\n",
       "       'Montenegro', 'Montserrat', 'Morocco', 'Mozambique', 'Myanmar',\n",
       "       'Namibia', 'Nauru', 'Nepal', 'Netherlands', 'New Caledonia',\n",
       "       'New Zealand', 'Nicaragua', 'Niger', 'Nigeria', 'Niue', 'Norway',\n",
       "       'Oman', 'Pakistan', 'Palau', 'Panama', 'Papua New Guinea',\n",
       "       'Paraguay', 'Peru', 'Philippines', 'Poland', 'Portugal', 'Qatar',\n",
       "       'Reunion', 'Romania', 'Russia', 'Rwanda', 'Saint Barthelemy',\n",
       "       'Saint Helena', 'Saint Kitts And Nevis', 'Saint Lucia',\n",
       "       'Saint Martin', 'Saint Pierre And Miquelon',\n",
       "       'Saint Vincent And The Grenadines', 'Samoa', 'San Marino',\n",
       "       'Sao Tome And Principe', 'Saudi Arabia', 'Senegal', 'Serbia',\n",
       "       'Seychelles', 'Sierra Leone', 'Singapore', 'Sint Maarten',\n",
       "       'Slovakia', 'Slovenia', 'Solomon Islands', 'Somalia',\n",
       "       'South Africa', 'South Korea', 'South Sudan', 'Spain', 'Sri Lanka',\n",
       "       'State Of Palestine', 'Sudan', 'Suriname', 'Swaziland', 'Sweden',\n",
       "       'Switzerland', 'Syria', 'Taiwan', 'Tajikistan', 'Tanzania',\n",
       "       'Thailand', 'Timor Leste', 'Togo', 'Tonga', 'Trinidad And Tobago',\n",
       "       'Tunisia', 'Turkey', 'Turks And Caicos Islands', 'Uganda', 'UK',\n",
       "       'Ukraine', 'United Arab Emirates', 'Uruguay', 'USA', 'Uzbekistan',\n",
       "       'Vanuatu', 'Venezuela', 'Viet Nam', 'Wallis And Futuna Islands',\n",
       "       'Western Sahara', 'Yemen', 'Zambia', 'Zimbabwe'], dtype=object)"
      ]
     },
     "execution_count": 8,
     "metadata": {},
     "output_type": "execute_result"
    }
   ],
   "source": [
    "#To print the available Countries in the dataset\n",
    "world_data.country.unique()"
   ]
  },
  {
   "cell_type": "markdown",
   "id": "6d6c9f5d",
   "metadata": {},
   "source": [
    "## Separating three countries (India/USA/Germany) data from World dataset"
   ]
  },
  {
   "cell_type": "markdown",
   "id": "3b68cf9f",
   "metadata": {},
   "source": [
    "### 1.India"
   ]
  },
  {
   "cell_type": "code",
   "execution_count": 9,
   "id": "7316499f",
   "metadata": {},
   "outputs": [
    {
     "data": {
      "text/html": [
       "<div>\n",
       "<style scoped>\n",
       "    .dataframe tbody tr th:only-of-type {\n",
       "        vertical-align: middle;\n",
       "    }\n",
       "\n",
       "    .dataframe tbody tr th {\n",
       "        vertical-align: top;\n",
       "    }\n",
       "\n",
       "    .dataframe thead th {\n",
       "        text-align: right;\n",
       "    }\n",
       "</style>\n",
       "<table border=\"1\" class=\"dataframe\">\n",
       "  <thead>\n",
       "    <tr style=\"text-align: right;\">\n",
       "      <th></th>\n",
       "      <th>date</th>\n",
       "      <th>country</th>\n",
       "      <th>cumulative_total_cases</th>\n",
       "      <th>daily_new_cases</th>\n",
       "      <th>active_cases</th>\n",
       "      <th>cumulative_total_deaths</th>\n",
       "      <th>daily_new_deaths</th>\n",
       "    </tr>\n",
       "  </thead>\n",
       "  <tbody>\n",
       "    <tr>\n",
       "      <th>77104</th>\n",
       "      <td>15-02-2020</td>\n",
       "      <td>India</td>\n",
       "      <td>3</td>\n",
       "      <td>NaN</td>\n",
       "      <td>0.0</td>\n",
       "      <td>0.0</td>\n",
       "      <td>NaN</td>\n",
       "    </tr>\n",
       "    <tr>\n",
       "      <th>77105</th>\n",
       "      <td>16-02-2020</td>\n",
       "      <td>India</td>\n",
       "      <td>3</td>\n",
       "      <td>0.0</td>\n",
       "      <td>0.0</td>\n",
       "      <td>0.0</td>\n",
       "      <td>NaN</td>\n",
       "    </tr>\n",
       "    <tr>\n",
       "      <th>77106</th>\n",
       "      <td>17-02-2020</td>\n",
       "      <td>India</td>\n",
       "      <td>3</td>\n",
       "      <td>0.0</td>\n",
       "      <td>0.0</td>\n",
       "      <td>0.0</td>\n",
       "      <td>NaN</td>\n",
       "    </tr>\n",
       "    <tr>\n",
       "      <th>77107</th>\n",
       "      <td>18-02-2020</td>\n",
       "      <td>India</td>\n",
       "      <td>3</td>\n",
       "      <td>0.0</td>\n",
       "      <td>0.0</td>\n",
       "      <td>0.0</td>\n",
       "      <td>NaN</td>\n",
       "    </tr>\n",
       "    <tr>\n",
       "      <th>77108</th>\n",
       "      <td>19-02-2020</td>\n",
       "      <td>India</td>\n",
       "      <td>3</td>\n",
       "      <td>0.0</td>\n",
       "      <td>0.0</td>\n",
       "      <td>0.0</td>\n",
       "      <td>NaN</td>\n",
       "    </tr>\n",
       "  </tbody>\n",
       "</table>\n",
       "</div>"
      ],
      "text/plain": [
       "             date country  cumulative_total_cases  daily_new_cases  \\\n",
       "77104  15-02-2020   India                       3              NaN   \n",
       "77105  16-02-2020   India                       3              0.0   \n",
       "77106  17-02-2020   India                       3              0.0   \n",
       "77107  18-02-2020   India                       3              0.0   \n",
       "77108  19-02-2020   India                       3              0.0   \n",
       "\n",
       "       active_cases  cumulative_total_deaths  daily_new_deaths  \n",
       "77104           0.0                      0.0               NaN  \n",
       "77105           0.0                      0.0               NaN  \n",
       "77106           0.0                      0.0               NaN  \n",
       "77107           0.0                      0.0               NaN  \n",
       "77108           0.0                      0.0               NaN  "
      ]
     },
     "execution_count": 9,
     "metadata": {},
     "output_type": "execute_result"
    }
   ],
   "source": [
    "#using query to sort the rows of india\n",
    "india_covid = world_data.query('country == \"India\"')\n",
    "india_covid.head()"
   ]
  },
  {
   "cell_type": "code",
   "execution_count": 10,
   "id": "6d92a36c",
   "metadata": {},
   "outputs": [
    {
     "name": "stderr",
     "output_type": "stream",
     "text": [
      "C:\\Users\\ektag\\AppData\\Local\\Temp\\ipykernel_13860\\1592003540.py:2: SettingWithCopyWarning: \n",
      "A value is trying to be set on a copy of a slice from a DataFrame\n",
      "\n",
      "See the caveats in the documentation: https://pandas.pydata.org/pandas-docs/stable/user_guide/indexing.html#returning-a-view-versus-a-copy\n",
      "  india_covid.drop(columns = [\"cumulative_total_cases\",\"cumulative_total_deaths\"], inplace = True)\n"
     ]
    },
    {
     "data": {
      "text/html": [
       "<div>\n",
       "<style scoped>\n",
       "    .dataframe tbody tr th:only-of-type {\n",
       "        vertical-align: middle;\n",
       "    }\n",
       "\n",
       "    .dataframe tbody tr th {\n",
       "        vertical-align: top;\n",
       "    }\n",
       "\n",
       "    .dataframe thead th {\n",
       "        text-align: right;\n",
       "    }\n",
       "</style>\n",
       "<table border=\"1\" class=\"dataframe\">\n",
       "  <thead>\n",
       "    <tr style=\"text-align: right;\">\n",
       "      <th></th>\n",
       "      <th>date</th>\n",
       "      <th>country</th>\n",
       "      <th>daily_new_cases</th>\n",
       "      <th>active_cases</th>\n",
       "      <th>daily_new_deaths</th>\n",
       "    </tr>\n",
       "  </thead>\n",
       "  <tbody>\n",
       "    <tr>\n",
       "      <th>77104</th>\n",
       "      <td>15-02-2020</td>\n",
       "      <td>India</td>\n",
       "      <td>NaN</td>\n",
       "      <td>0.0</td>\n",
       "      <td>NaN</td>\n",
       "    </tr>\n",
       "    <tr>\n",
       "      <th>77105</th>\n",
       "      <td>16-02-2020</td>\n",
       "      <td>India</td>\n",
       "      <td>0.0</td>\n",
       "      <td>0.0</td>\n",
       "      <td>NaN</td>\n",
       "    </tr>\n",
       "    <tr>\n",
       "      <th>77106</th>\n",
       "      <td>17-02-2020</td>\n",
       "      <td>India</td>\n",
       "      <td>0.0</td>\n",
       "      <td>0.0</td>\n",
       "      <td>NaN</td>\n",
       "    </tr>\n",
       "    <tr>\n",
       "      <th>77107</th>\n",
       "      <td>18-02-2020</td>\n",
       "      <td>India</td>\n",
       "      <td>0.0</td>\n",
       "      <td>0.0</td>\n",
       "      <td>NaN</td>\n",
       "    </tr>\n",
       "    <tr>\n",
       "      <th>77108</th>\n",
       "      <td>19-02-2020</td>\n",
       "      <td>India</td>\n",
       "      <td>0.0</td>\n",
       "      <td>0.0</td>\n",
       "      <td>NaN</td>\n",
       "    </tr>\n",
       "  </tbody>\n",
       "</table>\n",
       "</div>"
      ],
      "text/plain": [
       "             date country  daily_new_cases  active_cases  daily_new_deaths\n",
       "77104  15-02-2020   India              NaN           0.0               NaN\n",
       "77105  16-02-2020   India              0.0           0.0               NaN\n",
       "77106  17-02-2020   India              0.0           0.0               NaN\n",
       "77107  18-02-2020   India              0.0           0.0               NaN\n",
       "77108  19-02-2020   India              0.0           0.0               NaN"
      ]
     },
     "execution_count": 10,
     "metadata": {},
     "output_type": "execute_result"
    }
   ],
   "source": [
    "#dropping the redundant columns\n",
    "india_covid.drop(columns = [\"cumulative_total_cases\",\"cumulative_total_deaths\"], inplace = True)\n",
    "india_covid.head()"
   ]
  },
  {
   "cell_type": "code",
   "execution_count": 11,
   "id": "8d395345",
   "metadata": {},
   "outputs": [
    {
     "name": "stderr",
     "output_type": "stream",
     "text": [
      "C:\\Users\\ektag\\AppData\\Local\\Temp\\ipykernel_13860\\145514149.py:2: SettingWithCopyWarning: \n",
      "A value is trying to be set on a copy of a slice from a DataFrame\n",
      "\n",
      "See the caveats in the documentation: https://pandas.pydata.org/pandas-docs/stable/user_guide/indexing.html#returning-a-view-versus-a-copy\n",
      "  india_covid.rename(columns = {'daily_new_cases':'Daily_Cases','daily_new_deaths':'Deaths'},inplace = True)\n"
     ]
    },
    {
     "data": {
      "text/html": [
       "<div>\n",
       "<style scoped>\n",
       "    .dataframe tbody tr th:only-of-type {\n",
       "        vertical-align: middle;\n",
       "    }\n",
       "\n",
       "    .dataframe tbody tr th {\n",
       "        vertical-align: top;\n",
       "    }\n",
       "\n",
       "    .dataframe thead th {\n",
       "        text-align: right;\n",
       "    }\n",
       "</style>\n",
       "<table border=\"1\" class=\"dataframe\">\n",
       "  <thead>\n",
       "    <tr style=\"text-align: right;\">\n",
       "      <th></th>\n",
       "      <th>date</th>\n",
       "      <th>country</th>\n",
       "      <th>Daily_Cases</th>\n",
       "      <th>active_cases</th>\n",
       "      <th>Deaths</th>\n",
       "    </tr>\n",
       "  </thead>\n",
       "  <tbody>\n",
       "    <tr>\n",
       "      <th>77104</th>\n",
       "      <td>15-02-2020</td>\n",
       "      <td>India</td>\n",
       "      <td>NaN</td>\n",
       "      <td>0.0</td>\n",
       "      <td>NaN</td>\n",
       "    </tr>\n",
       "    <tr>\n",
       "      <th>77105</th>\n",
       "      <td>16-02-2020</td>\n",
       "      <td>India</td>\n",
       "      <td>0.0</td>\n",
       "      <td>0.0</td>\n",
       "      <td>NaN</td>\n",
       "    </tr>\n",
       "    <tr>\n",
       "      <th>77106</th>\n",
       "      <td>17-02-2020</td>\n",
       "      <td>India</td>\n",
       "      <td>0.0</td>\n",
       "      <td>0.0</td>\n",
       "      <td>NaN</td>\n",
       "    </tr>\n",
       "    <tr>\n",
       "      <th>77107</th>\n",
       "      <td>18-02-2020</td>\n",
       "      <td>India</td>\n",
       "      <td>0.0</td>\n",
       "      <td>0.0</td>\n",
       "      <td>NaN</td>\n",
       "    </tr>\n",
       "    <tr>\n",
       "      <th>77108</th>\n",
       "      <td>19-02-2020</td>\n",
       "      <td>India</td>\n",
       "      <td>0.0</td>\n",
       "      <td>0.0</td>\n",
       "      <td>NaN</td>\n",
       "    </tr>\n",
       "  </tbody>\n",
       "</table>\n",
       "</div>"
      ],
      "text/plain": [
       "             date country  Daily_Cases  active_cases  Deaths\n",
       "77104  15-02-2020   India          NaN           0.0     NaN\n",
       "77105  16-02-2020   India          0.0           0.0     NaN\n",
       "77106  17-02-2020   India          0.0           0.0     NaN\n",
       "77107  18-02-2020   India          0.0           0.0     NaN\n",
       "77108  19-02-2020   India          0.0           0.0     NaN"
      ]
     },
     "execution_count": 11,
     "metadata": {},
     "output_type": "execute_result"
    }
   ],
   "source": [
    "#renaming the column names according to our convenience\n",
    "india_covid.rename(columns = {'daily_new_cases':'Daily_Cases','daily_new_deaths':'Deaths'},inplace = True)\n",
    "india_covid.head()"
   ]
  },
  {
   "cell_type": "markdown",
   "id": "97f96e2e",
   "metadata": {},
   "source": [
    "### 2.The USA"
   ]
  },
  {
   "cell_type": "code",
   "execution_count": 12,
   "id": "bd6d915d",
   "metadata": {},
   "outputs": [
    {
     "data": {
      "text/html": [
       "<div>\n",
       "<style scoped>\n",
       "    .dataframe tbody tr th:only-of-type {\n",
       "        vertical-align: middle;\n",
       "    }\n",
       "\n",
       "    .dataframe tbody tr th {\n",
       "        vertical-align: top;\n",
       "    }\n",
       "\n",
       "    .dataframe thead th {\n",
       "        text-align: right;\n",
       "    }\n",
       "</style>\n",
       "<table border=\"1\" class=\"dataframe\">\n",
       "  <thead>\n",
       "    <tr style=\"text-align: right;\">\n",
       "      <th></th>\n",
       "      <th>date</th>\n",
       "      <th>country</th>\n",
       "      <th>cumulative_total_cases</th>\n",
       "      <th>daily_new_cases</th>\n",
       "      <th>active_cases</th>\n",
       "      <th>cumulative_total_deaths</th>\n",
       "      <th>daily_new_deaths</th>\n",
       "    </tr>\n",
       "  </thead>\n",
       "  <tbody>\n",
       "    <tr>\n",
       "      <th>176587</th>\n",
       "      <td>15-02-2020</td>\n",
       "      <td>USA</td>\n",
       "      <td>15</td>\n",
       "      <td>NaN</td>\n",
       "      <td>12.0</td>\n",
       "      <td>0.0</td>\n",
       "      <td>NaN</td>\n",
       "    </tr>\n",
       "    <tr>\n",
       "      <th>176588</th>\n",
       "      <td>16-02-2020</td>\n",
       "      <td>USA</td>\n",
       "      <td>15</td>\n",
       "      <td>0.0</td>\n",
       "      <td>12.0</td>\n",
       "      <td>0.0</td>\n",
       "      <td>NaN</td>\n",
       "    </tr>\n",
       "    <tr>\n",
       "      <th>176589</th>\n",
       "      <td>17-02-2020</td>\n",
       "      <td>USA</td>\n",
       "      <td>15</td>\n",
       "      <td>0.0</td>\n",
       "      <td>12.0</td>\n",
       "      <td>0.0</td>\n",
       "      <td>NaN</td>\n",
       "    </tr>\n",
       "    <tr>\n",
       "      <th>176590</th>\n",
       "      <td>18-02-2020</td>\n",
       "      <td>USA</td>\n",
       "      <td>15</td>\n",
       "      <td>0.0</td>\n",
       "      <td>12.0</td>\n",
       "      <td>0.0</td>\n",
       "      <td>NaN</td>\n",
       "    </tr>\n",
       "    <tr>\n",
       "      <th>176591</th>\n",
       "      <td>19-02-2020</td>\n",
       "      <td>USA</td>\n",
       "      <td>15</td>\n",
       "      <td>0.0</td>\n",
       "      <td>12.0</td>\n",
       "      <td>0.0</td>\n",
       "      <td>NaN</td>\n",
       "    </tr>\n",
       "  </tbody>\n",
       "</table>\n",
       "</div>"
      ],
      "text/plain": [
       "              date country  cumulative_total_cases  daily_new_cases  \\\n",
       "176587  15-02-2020     USA                      15              NaN   \n",
       "176588  16-02-2020     USA                      15              0.0   \n",
       "176589  17-02-2020     USA                      15              0.0   \n",
       "176590  18-02-2020     USA                      15              0.0   \n",
       "176591  19-02-2020     USA                      15              0.0   \n",
       "\n",
       "        active_cases  cumulative_total_deaths  daily_new_deaths  \n",
       "176587          12.0                      0.0               NaN  \n",
       "176588          12.0                      0.0               NaN  \n",
       "176589          12.0                      0.0               NaN  \n",
       "176590          12.0                      0.0               NaN  \n",
       "176591          12.0                      0.0               NaN  "
      ]
     },
     "execution_count": 12,
     "metadata": {},
     "output_type": "execute_result"
    }
   ],
   "source": [
    "USA_covid = world_data.query('country == \"USA\"')\n",
    "USA_covid.head()"
   ]
  },
  {
   "cell_type": "code",
   "execution_count": 13,
   "id": "1ce8b959",
   "metadata": {},
   "outputs": [
    {
     "name": "stderr",
     "output_type": "stream",
     "text": [
      "C:\\Users\\ektag\\AppData\\Local\\Temp\\ipykernel_13860\\3368048554.py:1: SettingWithCopyWarning: \n",
      "A value is trying to be set on a copy of a slice from a DataFrame\n",
      "\n",
      "See the caveats in the documentation: https://pandas.pydata.org/pandas-docs/stable/user_guide/indexing.html#returning-a-view-versus-a-copy\n",
      "  USA_covid.drop(columns = [\"cumulative_total_cases\",\"cumulative_total_deaths\"], inplace = True)\n",
      "C:\\Users\\ektag\\AppData\\Local\\Temp\\ipykernel_13860\\3368048554.py:2: SettingWithCopyWarning: \n",
      "A value is trying to be set on a copy of a slice from a DataFrame\n",
      "\n",
      "See the caveats in the documentation: https://pandas.pydata.org/pandas-docs/stable/user_guide/indexing.html#returning-a-view-versus-a-copy\n",
      "  USA_covid.rename(columns = {'daily_new_cases':'Daily_Cases','daily_new_deaths':'Deaths'},inplace = True)\n"
     ]
    },
    {
     "data": {
      "text/html": [
       "<div>\n",
       "<style scoped>\n",
       "    .dataframe tbody tr th:only-of-type {\n",
       "        vertical-align: middle;\n",
       "    }\n",
       "\n",
       "    .dataframe tbody tr th {\n",
       "        vertical-align: top;\n",
       "    }\n",
       "\n",
       "    .dataframe thead th {\n",
       "        text-align: right;\n",
       "    }\n",
       "</style>\n",
       "<table border=\"1\" class=\"dataframe\">\n",
       "  <thead>\n",
       "    <tr style=\"text-align: right;\">\n",
       "      <th></th>\n",
       "      <th>date</th>\n",
       "      <th>country</th>\n",
       "      <th>Daily_Cases</th>\n",
       "      <th>active_cases</th>\n",
       "      <th>Deaths</th>\n",
       "    </tr>\n",
       "  </thead>\n",
       "  <tbody>\n",
       "    <tr>\n",
       "      <th>176587</th>\n",
       "      <td>15-02-2020</td>\n",
       "      <td>USA</td>\n",
       "      <td>NaN</td>\n",
       "      <td>12.0</td>\n",
       "      <td>NaN</td>\n",
       "    </tr>\n",
       "    <tr>\n",
       "      <th>176588</th>\n",
       "      <td>16-02-2020</td>\n",
       "      <td>USA</td>\n",
       "      <td>0.0</td>\n",
       "      <td>12.0</td>\n",
       "      <td>NaN</td>\n",
       "    </tr>\n",
       "    <tr>\n",
       "      <th>176589</th>\n",
       "      <td>17-02-2020</td>\n",
       "      <td>USA</td>\n",
       "      <td>0.0</td>\n",
       "      <td>12.0</td>\n",
       "      <td>NaN</td>\n",
       "    </tr>\n",
       "    <tr>\n",
       "      <th>176590</th>\n",
       "      <td>18-02-2020</td>\n",
       "      <td>USA</td>\n",
       "      <td>0.0</td>\n",
       "      <td>12.0</td>\n",
       "      <td>NaN</td>\n",
       "    </tr>\n",
       "    <tr>\n",
       "      <th>176591</th>\n",
       "      <td>19-02-2020</td>\n",
       "      <td>USA</td>\n",
       "      <td>0.0</td>\n",
       "      <td>12.0</td>\n",
       "      <td>NaN</td>\n",
       "    </tr>\n",
       "  </tbody>\n",
       "</table>\n",
       "</div>"
      ],
      "text/plain": [
       "              date country  Daily_Cases  active_cases  Deaths\n",
       "176587  15-02-2020     USA          NaN          12.0     NaN\n",
       "176588  16-02-2020     USA          0.0          12.0     NaN\n",
       "176589  17-02-2020     USA          0.0          12.0     NaN\n",
       "176590  18-02-2020     USA          0.0          12.0     NaN\n",
       "176591  19-02-2020     USA          0.0          12.0     NaN"
      ]
     },
     "execution_count": 13,
     "metadata": {},
     "output_type": "execute_result"
    }
   ],
   "source": [
    "USA_covid.drop(columns = [\"cumulative_total_cases\",\"cumulative_total_deaths\"], inplace = True)\n",
    "USA_covid.rename(columns = {'daily_new_cases':'Daily_Cases','daily_new_deaths':'Deaths'},inplace = True)\n",
    "USA_covid.head()"
   ]
  },
  {
   "cell_type": "markdown",
   "id": "7430dfe9",
   "metadata": {},
   "source": [
    "### 3. Germany"
   ]
  },
  {
   "cell_type": "code",
   "execution_count": 14,
   "id": "f2f9a902",
   "metadata": {},
   "outputs": [
    {
     "data": {
      "text/html": [
       "<div>\n",
       "<style scoped>\n",
       "    .dataframe tbody tr th:only-of-type {\n",
       "        vertical-align: middle;\n",
       "    }\n",
       "\n",
       "    .dataframe tbody tr th {\n",
       "        vertical-align: top;\n",
       "    }\n",
       "\n",
       "    .dataframe thead th {\n",
       "        text-align: right;\n",
       "    }\n",
       "</style>\n",
       "<table border=\"1\" class=\"dataframe\">\n",
       "  <thead>\n",
       "    <tr style=\"text-align: right;\">\n",
       "      <th></th>\n",
       "      <th>date</th>\n",
       "      <th>country</th>\n",
       "      <th>cumulative_total_cases</th>\n",
       "      <th>daily_new_cases</th>\n",
       "      <th>active_cases</th>\n",
       "      <th>cumulative_total_deaths</th>\n",
       "      <th>daily_new_deaths</th>\n",
       "    </tr>\n",
       "  </thead>\n",
       "  <tbody>\n",
       "    <tr>\n",
       "      <th>63984</th>\n",
       "      <td>15-02-2020</td>\n",
       "      <td>Germany</td>\n",
       "      <td>16</td>\n",
       "      <td>NaN</td>\n",
       "      <td>13.0</td>\n",
       "      <td>0.0</td>\n",
       "      <td>NaN</td>\n",
       "    </tr>\n",
       "    <tr>\n",
       "      <th>63985</th>\n",
       "      <td>16-02-2020</td>\n",
       "      <td>Germany</td>\n",
       "      <td>16</td>\n",
       "      <td>0.0</td>\n",
       "      <td>13.0</td>\n",
       "      <td>0.0</td>\n",
       "      <td>NaN</td>\n",
       "    </tr>\n",
       "    <tr>\n",
       "      <th>63986</th>\n",
       "      <td>17-02-2020</td>\n",
       "      <td>Germany</td>\n",
       "      <td>16</td>\n",
       "      <td>0.0</td>\n",
       "      <td>9.0</td>\n",
       "      <td>0.0</td>\n",
       "      <td>NaN</td>\n",
       "    </tr>\n",
       "    <tr>\n",
       "      <th>63987</th>\n",
       "      <td>18-02-2020</td>\n",
       "      <td>Germany</td>\n",
       "      <td>16</td>\n",
       "      <td>0.0</td>\n",
       "      <td>7.0</td>\n",
       "      <td>0.0</td>\n",
       "      <td>NaN</td>\n",
       "    </tr>\n",
       "    <tr>\n",
       "      <th>63988</th>\n",
       "      <td>19-02-2020</td>\n",
       "      <td>Germany</td>\n",
       "      <td>16</td>\n",
       "      <td>0.0</td>\n",
       "      <td>7.0</td>\n",
       "      <td>0.0</td>\n",
       "      <td>NaN</td>\n",
       "    </tr>\n",
       "  </tbody>\n",
       "</table>\n",
       "</div>"
      ],
      "text/plain": [
       "             date  country  cumulative_total_cases  daily_new_cases  \\\n",
       "63984  15-02-2020  Germany                      16              NaN   \n",
       "63985  16-02-2020  Germany                      16              0.0   \n",
       "63986  17-02-2020  Germany                      16              0.0   \n",
       "63987  18-02-2020  Germany                      16              0.0   \n",
       "63988  19-02-2020  Germany                      16              0.0   \n",
       "\n",
       "       active_cases  cumulative_total_deaths  daily_new_deaths  \n",
       "63984          13.0                      0.0               NaN  \n",
       "63985          13.0                      0.0               NaN  \n",
       "63986           9.0                      0.0               NaN  \n",
       "63987           7.0                      0.0               NaN  \n",
       "63988           7.0                      0.0               NaN  "
      ]
     },
     "execution_count": 14,
     "metadata": {},
     "output_type": "execute_result"
    }
   ],
   "source": [
    "germany_covid = world_data.query('country == \"Germany\"')\n",
    "germany_covid.head()"
   ]
  },
  {
   "cell_type": "code",
   "execution_count": 15,
   "id": "739f0041",
   "metadata": {},
   "outputs": [
    {
     "name": "stderr",
     "output_type": "stream",
     "text": [
      "C:\\Users\\ektag\\AppData\\Local\\Temp\\ipykernel_13860\\3046172153.py:1: SettingWithCopyWarning: \n",
      "A value is trying to be set on a copy of a slice from a DataFrame\n",
      "\n",
      "See the caveats in the documentation: https://pandas.pydata.org/pandas-docs/stable/user_guide/indexing.html#returning-a-view-versus-a-copy\n",
      "  germany_covid.drop(columns = [\"cumulative_total_cases\",\"cumulative_total_deaths\"], inplace = True)\n",
      "C:\\Users\\ektag\\AppData\\Local\\Temp\\ipykernel_13860\\3046172153.py:2: SettingWithCopyWarning: \n",
      "A value is trying to be set on a copy of a slice from a DataFrame\n",
      "\n",
      "See the caveats in the documentation: https://pandas.pydata.org/pandas-docs/stable/user_guide/indexing.html#returning-a-view-versus-a-copy\n",
      "  germany_covid.rename(columns = {'daily_new_cases':'Daily_Cases','daily_new_deaths':'deaths'},inplace = True)\n"
     ]
    },
    {
     "data": {
      "text/html": [
       "<div>\n",
       "<style scoped>\n",
       "    .dataframe tbody tr th:only-of-type {\n",
       "        vertical-align: middle;\n",
       "    }\n",
       "\n",
       "    .dataframe tbody tr th {\n",
       "        vertical-align: top;\n",
       "    }\n",
       "\n",
       "    .dataframe thead th {\n",
       "        text-align: right;\n",
       "    }\n",
       "</style>\n",
       "<table border=\"1\" class=\"dataframe\">\n",
       "  <thead>\n",
       "    <tr style=\"text-align: right;\">\n",
       "      <th></th>\n",
       "      <th>date</th>\n",
       "      <th>country</th>\n",
       "      <th>Daily_Cases</th>\n",
       "      <th>active_cases</th>\n",
       "      <th>deaths</th>\n",
       "    </tr>\n",
       "  </thead>\n",
       "  <tbody>\n",
       "    <tr>\n",
       "      <th>63984</th>\n",
       "      <td>15-02-2020</td>\n",
       "      <td>Germany</td>\n",
       "      <td>NaN</td>\n",
       "      <td>13.0</td>\n",
       "      <td>NaN</td>\n",
       "    </tr>\n",
       "    <tr>\n",
       "      <th>63985</th>\n",
       "      <td>16-02-2020</td>\n",
       "      <td>Germany</td>\n",
       "      <td>0.0</td>\n",
       "      <td>13.0</td>\n",
       "      <td>NaN</td>\n",
       "    </tr>\n",
       "    <tr>\n",
       "      <th>63986</th>\n",
       "      <td>17-02-2020</td>\n",
       "      <td>Germany</td>\n",
       "      <td>0.0</td>\n",
       "      <td>9.0</td>\n",
       "      <td>NaN</td>\n",
       "    </tr>\n",
       "    <tr>\n",
       "      <th>63987</th>\n",
       "      <td>18-02-2020</td>\n",
       "      <td>Germany</td>\n",
       "      <td>0.0</td>\n",
       "      <td>7.0</td>\n",
       "      <td>NaN</td>\n",
       "    </tr>\n",
       "    <tr>\n",
       "      <th>63988</th>\n",
       "      <td>19-02-2020</td>\n",
       "      <td>Germany</td>\n",
       "      <td>0.0</td>\n",
       "      <td>7.0</td>\n",
       "      <td>NaN</td>\n",
       "    </tr>\n",
       "  </tbody>\n",
       "</table>\n",
       "</div>"
      ],
      "text/plain": [
       "             date  country  Daily_Cases  active_cases  deaths\n",
       "63984  15-02-2020  Germany          NaN          13.0     NaN\n",
       "63985  16-02-2020  Germany          0.0          13.0     NaN\n",
       "63986  17-02-2020  Germany          0.0           9.0     NaN\n",
       "63987  18-02-2020  Germany          0.0           7.0     NaN\n",
       "63988  19-02-2020  Germany          0.0           7.0     NaN"
      ]
     },
     "execution_count": 15,
     "metadata": {},
     "output_type": "execute_result"
    }
   ],
   "source": [
    "germany_covid.drop(columns = [\"cumulative_total_cases\",\"cumulative_total_deaths\"], inplace = True)\n",
    "germany_covid.rename(columns = {'daily_new_cases':'Daily_Cases','daily_new_deaths':'deaths'},inplace = True)\n",
    "germany_covid.head()"
   ]
  },
  {
   "cell_type": "code",
   "execution_count": 16,
   "id": "89b02aa1",
   "metadata": {},
   "outputs": [
    {
     "ename": "NameError",
     "evalue": "name 'germany_population' is not defined",
     "output_type": "error",
     "traceback": [
      "\u001b[1;31m---------------------------------------------------------------------------\u001b[0m",
      "\u001b[1;31mNameError\u001b[0m                                 Traceback (most recent call last)",
      "Input \u001b[1;32mIn [16]\u001b[0m, in \u001b[0;36m<cell line: 1>\u001b[1;34m()\u001b[0m\n\u001b[1;32m----> 1\u001b[0m germany_covid[\u001b[38;5;124m'\u001b[39m\u001b[38;5;124mDaily_Cases\u001b[39m\u001b[38;5;124m'\u001b[39m] \u001b[38;5;241m=\u001b[39m (germany_covid[\u001b[38;5;124m'\u001b[39m\u001b[38;5;124mDaily_Cases\u001b[39m\u001b[38;5;124m'\u001b[39m]\u001b[38;5;241m/\u001b[39m \u001b[43mgermany_population\u001b[49m) \u001b[38;5;241m*\u001b[39m \u001b[38;5;241m100\u001b[39m\n\u001b[0;32m      2\u001b[0m india_covid[\u001b[38;5;124m'\u001b[39m\u001b[38;5;124mDaily_Cases\u001b[39m\u001b[38;5;124m'\u001b[39m] \u001b[38;5;241m=\u001b[39m (india_covid[\u001b[38;5;124m'\u001b[39m\u001b[38;5;124mDaily_Cases\u001b[39m\u001b[38;5;124m'\u001b[39m]\u001b[38;5;241m/\u001b[39m india_population) \u001b[38;5;241m*\u001b[39m \u001b[38;5;241m100\u001b[39m\n\u001b[0;32m      3\u001b[0m USA_covid[\u001b[38;5;124m'\u001b[39m\u001b[38;5;124mDaily_Cases\u001b[39m\u001b[38;5;124m'\u001b[39m] \u001b[38;5;241m=\u001b[39m (USA_covid[\u001b[38;5;124m'\u001b[39m\u001b[38;5;124mDaily_Cases\u001b[39m\u001b[38;5;124m'\u001b[39m]\u001b[38;5;241m/\u001b[39m USA_population) \u001b[38;5;241m*\u001b[39m \u001b[38;5;241m100\u001b[39m\n",
      "\u001b[1;31mNameError\u001b[0m: name 'germany_population' is not defined"
     ]
    }
   ],
   "source": [
    "germany_covid['Daily_Cases'] = (germany_covid['Daily_Cases']/ germany_population) * 100\n",
    "india_covid['Daily_Cases'] = (india_covid['Daily_Cases']/ india_population) * 100\n",
    "USA_covid['Daily_Cases'] = (USA_covid['Daily_Cases']/ USA_population) * 100"
   ]
  },
  {
   "cell_type": "markdown",
   "id": "e41acc5b",
   "metadata": {},
   "source": [
    "### Figure 1: The relative cases overtime of Covid infectors"
   ]
  },
  {
   "cell_type": "code",
   "execution_count": null,
   "id": "a7d1e77c",
   "metadata": {},
   "outputs": [],
   "source": [
    "fig = make_subplots(rows=3, cols=1, shared_xaxes=True,vertical_spacing=0.01,  y_title = \"Absolute Covid Cases per Population\",\n",
    "    specs=[[{\"type\": \"scatter\"}],\n",
    "           [{\"type\": \"scatter\"}],\n",
    "           [{\"type\": \"scatter\"}]]\n",
    ")\n",
    "\n",
    "\n",
    "fig.add_trace(go.Scatter(x=india_covid[\"date\"], y=india_covid[\"Daily_Cases\"],mode=\"lines\",name=\"India\"),row= 1, col=1)\n",
    "fig.add_trace(go.Scatter(x=USA_covid[\"date\"], y=USA_covid[\"Daily_Cases\"],mode=\"lines\",name=\"USA\"),row= 2, col = 1)\n",
    "fig.add_trace(go.Scatter(x=germany_covid[\"date\"], y=germany_covid[\"Daily_Cases\"],mode=\"lines\",name=\"Germany\"),row=3, col = 1)\n",
    "fig.update_layout(height=800, showlegend=True,title_text=\"Covid cases in three countries (India, USA, Germany)\",)\n",
    "\n",
    "\n",
    "fig.show()"
   ]
  },
  {
   "cell_type": "markdown",
   "id": "7fd05115",
   "metadata": {},
   "source": [
    "## Population Calculation"
   ]
  },
  {
   "cell_type": "code",
   "execution_count": null,
   "id": "de78ffbb",
   "metadata": {},
   "outputs": [],
   "source": [
    "population.head()"
   ]
  },
  {
   "cell_type": "code",
   "execution_count": null,
   "id": "55e3831f",
   "metadata": {},
   "outputs": [],
   "source": [
    "#Calculating germany Population\n",
    "germany_population = population.query('country == \"Germany\"')['population'].sum()\n",
    "germany_population"
   ]
  },
  {
   "cell_type": "code",
   "execution_count": null,
   "id": "b6b4510a",
   "metadata": {},
   "outputs": [],
   "source": [
    "#Calculating United States Population\n",
    "USA_population = population.query('country == \"USA\"')['population'].sum()\n",
    "USA_population"
   ]
  },
  {
   "cell_type": "code",
   "execution_count": null,
   "id": "5dad7d2a",
   "metadata": {},
   "outputs": [],
   "source": [
    "#Calculating India Populationindia_population = population.query('country == \"India\"')['population'].sum()\n",
    "india_population"
   ]
  },
  {
   "cell_type": "markdown",
   "id": "55e5cb62",
   "metadata": {},
   "source": [
    "## Vaccination rate"
   ]
  },
  {
   "cell_type": "markdown",
   "id": "1c0e31d4",
   "metadata": {},
   "source": [
    "### 1. Germany"
   ]
  },
  {
   "cell_type": "code",
   "execution_count": null,
   "id": "4dc15e49",
   "metadata": {},
   "outputs": [],
   "source": [
    "german_vaccine = pd.read_csv(Germany_vaccination)"
   ]
  },
  {
   "cell_type": "code",
   "execution_count": null,
   "id": "947813bb",
   "metadata": {},
   "outputs": [],
   "source": [
    "#Calculating vaccination rate in percentage of population of Germany\n",
    "german_vaccine['people_vaccinated'] = (german_vaccine['people_vaccinated']/germany_population) * 100\n",
    "german_vaccine['people_fully_vaccinated'] = (german_vaccine['people_fully_vaccinated']/ germany_population) * 100\n",
    "german_vaccine.head()"
   ]
  },
  {
   "cell_type": "code",
   "execution_count": null,
   "id": "a66bd0f1",
   "metadata": {},
   "outputs": [],
   "source": [
    "german_vaccine.drop(columns = [\"vaccine\",\"source_url\",\"total_boosters\"], inplace = True)\n",
    "german_vaccine.head()"
   ]
  },
  {
   "cell_type": "markdown",
   "id": "d8a75046",
   "metadata": {},
   "source": [
    "### 2. USA"
   ]
  },
  {
   "cell_type": "code",
   "execution_count": null,
   "id": "d4242456",
   "metadata": {},
   "outputs": [],
   "source": [
    "USA_vaccine = pd.read_csv(USA_vaccination)"
   ]
  },
  {
   "cell_type": "code",
   "execution_count": null,
   "id": "c6ca4045",
   "metadata": {},
   "outputs": [],
   "source": [
    "#Calculating vaccination rate in percentage of population of United States\n",
    "USA_vaccine['people_vaccinated'] = (USA_vaccine['people_vaccinated']/USA_population) * 100\n",
    "USA_vaccine['people_fully_vaccinated'] = (USA_vaccine['people_fully_vaccinated']/ USA_population) * 100\n",
    "USA_vaccine.head()"
   ]
  },
  {
   "cell_type": "code",
   "execution_count": null,
   "id": "9ff969dd",
   "metadata": {},
   "outputs": [],
   "source": [
    "USA_vaccine.drop(columns = [\"vaccine\",\"source_url\",\"total_boosters\"], inplace = True)\n",
    "USA_vaccine.head()"
   ]
  },
  {
   "cell_type": "markdown",
   "id": "62594a4a",
   "metadata": {},
   "source": [
    "### 3. India"
   ]
  },
  {
   "cell_type": "code",
   "execution_count": null,
   "id": "19c7a0e3",
   "metadata": {},
   "outputs": [],
   "source": [
    "india_vaccine = pd.read_csv(Indian_vaccination)"
   ]
  },
  {
   "cell_type": "code",
   "execution_count": null,
   "id": "44a88f9f",
   "metadata": {},
   "outputs": [],
   "source": [
    "#Calculating vaccination rate in percentage of population of India\n",
    "india_vaccine['people_vaccinated'] = (india_vaccine['people_vaccinated']/ india_population) * 100\n",
    "india_vaccine['people_fully_vaccinated'] = (india_vaccine['people_fully_vaccinated']/ india_population) * 100\n",
    "india_vaccine.head()"
   ]
  },
  {
   "cell_type": "code",
   "execution_count": null,
   "id": "ab597c24",
   "metadata": {},
   "outputs": [],
   "source": [
    "india_vaccine.drop(columns = [\"vaccine\",\"source_url\",\"total_boosters\"], inplace = True)\n",
    "india_vaccine.head()"
   ]
  },
  {
   "cell_type": "code",
   "execution_count": null,
   "id": "51133117",
   "metadata": {},
   "outputs": [],
   "source": [
    "#Plotting line graph for the 1st dose overtime for Germany, United States and India\n",
    "fig = go.Figure()\n",
    "\n",
    "fig.add_trace(go.Scatter(x=india_vaccine[\"date\"], y=india_vaccine[\"people_vaccinated\"],\n",
    "                    mode='lines',\n",
    "                    name='India'))\n",
    "\n",
    "fig.add_trace(go.Scatter(x=USA_vaccine[\"date\"], y=USA_vaccine[\"people_vaccinated\"],\n",
    "                    mode='lines',\n",
    "                    name='USA'))\n",
    "\n",
    "fig.add_trace(go.Scatter( x=german_vaccine[\"date\"], y=german_vaccine[\"people_vaccinated\"],\n",
    "                    mode='lines',\n",
    "                    name='Germany'))\n",
    "\n",
    "fig.update_layout(title = \"Covid Vaccination rate overtime of 1st Dose(Percentage of the population)\")\n",
    "fig.update_xaxes(title_text = \"Date\")\n",
    "fig.update_yaxes(title_text = \"Vaccination rate with population (%)\")\n",
    "fig.show()"
   ]
  },
  {
   "cell_type": "code",
   "execution_count": null,
   "id": "5a65b914",
   "metadata": {},
   "outputs": [],
   "source": [
    "#Plotting line graph for the 2nd dose overtime for Germany, United States and India\n",
    "fig = go.Figure()\n",
    "\n",
    "fig.add_trace(go.Scatter(x=india_vaccine[\"date\"], y=india_vaccine[\"people_fully_vaccinated\"],\n",
    "                    mode='lines',\n",
    "                    name='India'))\n",
    "\n",
    "fig.add_trace(go.Scatter(x=USA_vaccine[\"date\"], y=USA_vaccine[\"people_fully_vaccinated\"],\n",
    "                    mode='lines',\n",
    "                    name='USA'))\n",
    "\n",
    "fig.add_trace(go.Scatter( x=german_vaccine[\"date\"], y=german_vaccine[\"people_fully_vaccinated\"],\n",
    "                    mode='lines',\n",
    "                    name='Germany'))\n",
    "\n",
    "fig.update_layout(title = \"Covid Vaccination rate overtime of 2nd Dose(Percentage of the population)\")\n",
    "fig.update_xaxes(title_text = \"Date\")\n",
    "fig.update_yaxes(title_text = \"Vaccination rate with population (%)\")\n",
    "fig.show()"
   ]
  },
  {
   "cell_type": "code",
   "execution_count": null,
   "id": "45611311",
   "metadata": {},
   "outputs": [],
   "source": []
  }
 ],
 "metadata": {
  "kernelspec": {
   "display_name": "Python 3 (ipykernel)",
   "language": "python",
   "name": "python3"
  },
  "language_info": {
   "codemirror_mode": {
    "name": "ipython",
    "version": 3
   },
   "file_extension": ".py",
   "mimetype": "text/x-python",
   "name": "python",
   "nbconvert_exporter": "python",
   "pygments_lexer": "ipython3",
   "version": "3.9.12"
  }
 },
 "nbformat": 4,
 "nbformat_minor": 5
}
